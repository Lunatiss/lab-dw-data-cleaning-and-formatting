{
 "cells": [
  {
   "cell_type": "markdown",
   "id": "25d7736c-ba17-4aff-b6bb-66eba20fbf4e",
   "metadata": {
    "id": "25d7736c-ba17-4aff-b6bb-66eba20fbf4e"
   },
   "source": [
    "# Lab | Data Cleaning and Formatting"
   ]
  },
  {
   "cell_type": "markdown",
   "id": "d1973e9e-8be6-4039-b70e-d73ee0d94c99",
   "metadata": {
    "id": "d1973e9e-8be6-4039-b70e-d73ee0d94c99"
   },
   "source": [
    "In this lab, we will be working with the customer data from an insurance company, which can be found in the CSV file located at the following link: https://raw.githubusercontent.com/data-bootcamp-v4/data/main/file1.csv\n"
   ]
  },
  {
   "cell_type": "markdown",
   "id": "31b8a9e7-7db9-4604-991b-ef6771603e57",
   "metadata": {
    "id": "31b8a9e7-7db9-4604-991b-ef6771603e57"
   },
   "source": [
    "# Challenge 1: Data Cleaning and Formatting"
   ]
  },
  {
   "cell_type": "markdown",
   "id": "81553f19-9f2c-484b-8940-520aff884022",
   "metadata": {
    "id": "81553f19-9f2c-484b-8940-520aff884022"
   },
   "source": [
    "## Exercise 1: Cleaning Column Names"
   ]
  },
  {
   "cell_type": "markdown",
   "id": "34a929f4-1be4-4fa8-adda-42ffd920be90",
   "metadata": {
    "id": "34a929f4-1be4-4fa8-adda-42ffd920be90"
   },
   "source": [
    "To ensure consistency and ease of use, standardize the column names of the dataframe. Start by taking a first look at the dataframe and identifying any column names that need to be modified. Use appropriate naming conventions and make sure that column names are descriptive and informative.\n",
    "\n",
    "*Hint*:\n",
    "- *Column names should be in lower case*\n",
    "- *White spaces in column names should be replaced by `_`*\n",
    "- *`st` could be replaced for `state`*"
   ]
  },
  {
   "cell_type": "code",
   "execution_count": 2,
   "id": "5810735c-8056-4442-bbf2-dda38d3e284a",
   "metadata": {
    "id": "5810735c-8056-4442-bbf2-dda38d3e284a"
   },
   "outputs": [
    {
     "name": "stdout",
     "output_type": "stream",
     "text": [
      "Requirement already satisfied: pandas in /opt/anaconda3/lib/python3.11/site-packages (2.1.4)\n",
      "Requirement already satisfied: numpy<2,>=1.23.2 in /opt/anaconda3/lib/python3.11/site-packages (from pandas) (1.26.4)\n",
      "Requirement already satisfied: python-dateutil>=2.8.2 in /opt/anaconda3/lib/python3.11/site-packages (from pandas) (2.8.2)\n",
      "Requirement already satisfied: pytz>=2020.1 in /opt/anaconda3/lib/python3.11/site-packages (from pandas) (2023.3.post1)\n",
      "Requirement already satisfied: tzdata>=2022.1 in /opt/anaconda3/lib/python3.11/site-packages (from pandas) (2023.3)\n",
      "Requirement already satisfied: six>=1.5 in /opt/anaconda3/lib/python3.11/site-packages (from python-dateutil>=2.8.2->pandas) (1.16.0)\n",
      "Note: you may need to restart the kernel to use updated packages.\n"
     ]
    }
   ],
   "source": [
    "pip install pandas"
   ]
  },
  {
   "cell_type": "code",
   "execution_count": 4,
   "id": "b7cee47f-bbc6-4220-951e-ead9909623b4",
   "metadata": {},
   "outputs": [],
   "source": [
    "import pandas as pd"
   ]
  },
  {
   "cell_type": "code",
   "execution_count": 1,
   "id": "4ec7a069-bbef-4006-8749-f813594c4080",
   "metadata": {},
   "outputs": [
    {
     "ename": "NameError",
     "evalue": "name 'pd' is not defined",
     "output_type": "error",
     "traceback": [
      "\u001b[0;31m---------------------------------------------------------------------------\u001b[0m",
      "\u001b[0;31mNameError\u001b[0m                                 Traceback (most recent call last)",
      "Cell \u001b[0;32mIn[1], line 1\u001b[0m\n\u001b[0;32m----> 1\u001b[0m df \u001b[38;5;241m=\u001b[39m pd\u001b[38;5;241m.\u001b[39mread_csv(\u001b[38;5;124m\"\u001b[39m\u001b[38;5;124mhttps://raw.githubusercontent.com/data-bootcamp-v4/data/main/file1.csv\u001b[39m\u001b[38;5;124m\"\u001b[39m)\n",
      "\u001b[0;31mNameError\u001b[0m: name 'pd' is not defined"
     ]
    }
   ],
   "source": [
    "df = pd.read_csv(\"https://raw.githubusercontent.com/data-bootcamp-v4/data/main/file1.csv\")"
   ]
  },
  {
   "cell_type": "code",
   "execution_count": 74,
   "id": "5e981fd6-3d94-403d-a74a-8b79ad5fb59a",
   "metadata": {},
   "outputs": [
    {
     "name": "stdout",
     "output_type": "stream",
     "text": [
      "<class 'pandas.core.frame.DataFrame'>\n",
      "RangeIndex: 4008 entries, 0 to 4007\n",
      "Data columns (total 11 columns):\n",
      " #   Column                     Non-Null Count  Dtype  \n",
      "---  ------                     --------------  -----  \n",
      " 0   Customer                   1071 non-null   object \n",
      " 1   ST                         1071 non-null   object \n",
      " 2   GENDER                     954 non-null    object \n",
      " 3   Education                  1071 non-null   object \n",
      " 4   Customer Lifetime Value    1068 non-null   object \n",
      " 5   Income                     1071 non-null   float64\n",
      " 6   Monthly Premium Auto       1071 non-null   float64\n",
      " 7   Number of Open Complaints  1071 non-null   object \n",
      " 8   Policy Type                1071 non-null   object \n",
      " 9   Vehicle Class              1071 non-null   object \n",
      " 10  Total Claim Amount         1071 non-null   float64\n",
      "dtypes: float64(3), object(8)\n",
      "memory usage: 344.6+ KB\n"
     ]
    }
   ],
   "source": [
    "df.info()"
   ]
  },
  {
   "cell_type": "code",
   "execution_count": 75,
   "id": "4bb20445-fa7c-47b1-8fae-8a1c6d9a497d",
   "metadata": {},
   "outputs": [],
   "source": [
    "#create a dict to applied rename(). Create a dict: original value as key and new value as value.\n",
    "df.rename(columns={'Customer':'customer',\n",
    "                   'ST':'customer_state',\n",
    "                   'GENDER':'gender',\n",
    "                   'Education':'education',\n",
    "                   'Customer Lifetime Value':'customer_lifetime_value',\n",
    "                   'Income':'income',\n",
    "                   'Monthly Premium Auto':'monthly_auto_premium',\n",
    "                   'Number of Open Complaints':'open_complaints',\n",
    "                   'Policy Type':'policy_type',\n",
    "                   'Vehicle Class':'vehicle_class',\n",
    "                   'Total Claim Amount':'total_claim_amount' \n",
    "                  },\n",
    "               inplace=True)"
   ]
  },
  {
   "cell_type": "code",
   "execution_count": 76,
   "id": "a89cbdad-131b-48ab-9fc3-96fc04bf3d89",
   "metadata": {},
   "outputs": [
    {
     "data": {
      "text/html": [
       "<div>\n",
       "<style scoped>\n",
       "    .dataframe tbody tr th:only-of-type {\n",
       "        vertical-align: middle;\n",
       "    }\n",
       "\n",
       "    .dataframe tbody tr th {\n",
       "        vertical-align: top;\n",
       "    }\n",
       "\n",
       "    .dataframe thead th {\n",
       "        text-align: right;\n",
       "    }\n",
       "</style>\n",
       "<table border=\"1\" class=\"dataframe\">\n",
       "  <thead>\n",
       "    <tr style=\"text-align: right;\">\n",
       "      <th></th>\n",
       "      <th>customer</th>\n",
       "      <th>customer_state</th>\n",
       "      <th>gender</th>\n",
       "      <th>education</th>\n",
       "      <th>customer_lifetime_value</th>\n",
       "      <th>income</th>\n",
       "      <th>monthly_auto_premium</th>\n",
       "      <th>open_complaints</th>\n",
       "      <th>policy_type</th>\n",
       "      <th>vehicle_class</th>\n",
       "      <th>total_claim_amount</th>\n",
       "    </tr>\n",
       "  </thead>\n",
       "  <tbody>\n",
       "    <tr>\n",
       "      <th>0</th>\n",
       "      <td>RB50392</td>\n",
       "      <td>Washington</td>\n",
       "      <td>NaN</td>\n",
       "      <td>Master</td>\n",
       "      <td>NaN</td>\n",
       "      <td>0.0</td>\n",
       "      <td>1000.0</td>\n",
       "      <td>1/0/00</td>\n",
       "      <td>Personal Auto</td>\n",
       "      <td>Four-Door Car</td>\n",
       "      <td>2.704934</td>\n",
       "    </tr>\n",
       "    <tr>\n",
       "      <th>1</th>\n",
       "      <td>QZ44356</td>\n",
       "      <td>Arizona</td>\n",
       "      <td>F</td>\n",
       "      <td>Bachelor</td>\n",
       "      <td>697953.59%</td>\n",
       "      <td>0.0</td>\n",
       "      <td>94.0</td>\n",
       "      <td>1/0/00</td>\n",
       "      <td>Personal Auto</td>\n",
       "      <td>Four-Door Car</td>\n",
       "      <td>1131.464935</td>\n",
       "    </tr>\n",
       "    <tr>\n",
       "      <th>2</th>\n",
       "      <td>AI49188</td>\n",
       "      <td>Nevada</td>\n",
       "      <td>F</td>\n",
       "      <td>Bachelor</td>\n",
       "      <td>1288743.17%</td>\n",
       "      <td>48767.0</td>\n",
       "      <td>108.0</td>\n",
       "      <td>1/0/00</td>\n",
       "      <td>Personal Auto</td>\n",
       "      <td>Two-Door Car</td>\n",
       "      <td>566.472247</td>\n",
       "    </tr>\n",
       "    <tr>\n",
       "      <th>3</th>\n",
       "      <td>WW63253</td>\n",
       "      <td>California</td>\n",
       "      <td>M</td>\n",
       "      <td>Bachelor</td>\n",
       "      <td>764586.18%</td>\n",
       "      <td>0.0</td>\n",
       "      <td>106.0</td>\n",
       "      <td>1/0/00</td>\n",
       "      <td>Corporate Auto</td>\n",
       "      <td>SUV</td>\n",
       "      <td>529.881344</td>\n",
       "    </tr>\n",
       "    <tr>\n",
       "      <th>4</th>\n",
       "      <td>GA49547</td>\n",
       "      <td>Washington</td>\n",
       "      <td>M</td>\n",
       "      <td>High School or Below</td>\n",
       "      <td>536307.65%</td>\n",
       "      <td>36357.0</td>\n",
       "      <td>68.0</td>\n",
       "      <td>1/0/00</td>\n",
       "      <td>Personal Auto</td>\n",
       "      <td>Four-Door Car</td>\n",
       "      <td>17.269323</td>\n",
       "    </tr>\n",
       "  </tbody>\n",
       "</table>\n",
       "</div>"
      ],
      "text/plain": [
       "  customer customer_state gender             education  \\\n",
       "0  RB50392     Washington    NaN                Master   \n",
       "1  QZ44356        Arizona      F              Bachelor   \n",
       "2  AI49188         Nevada      F              Bachelor   \n",
       "3  WW63253     California      M              Bachelor   \n",
       "4  GA49547     Washington      M  High School or Below   \n",
       "\n",
       "  customer_lifetime_value   income  monthly_auto_premium open_complaints  \\\n",
       "0                     NaN      0.0                1000.0          1/0/00   \n",
       "1              697953.59%      0.0                  94.0          1/0/00   \n",
       "2             1288743.17%  48767.0                 108.0          1/0/00   \n",
       "3              764586.18%      0.0                 106.0          1/0/00   \n",
       "4              536307.65%  36357.0                  68.0          1/0/00   \n",
       "\n",
       "      policy_type  vehicle_class  total_claim_amount  \n",
       "0   Personal Auto  Four-Door Car            2.704934  \n",
       "1   Personal Auto  Four-Door Car         1131.464935  \n",
       "2   Personal Auto   Two-Door Car          566.472247  \n",
       "3  Corporate Auto            SUV          529.881344  \n",
       "4   Personal Auto  Four-Door Car           17.269323  "
      ]
     },
     "execution_count": 76,
     "metadata": {},
     "output_type": "execute_result"
    }
   ],
   "source": [
    "df.head()"
   ]
  },
  {
   "cell_type": "code",
   "execution_count": 77,
   "id": "5706040a-6824-47ca-96d7-18ab0b730e5d",
   "metadata": {},
   "outputs": [
    {
     "name": "stdout",
     "output_type": "stream",
     "text": [
      "<class 'pandas.core.frame.DataFrame'>\n",
      "RangeIndex: 4008 entries, 0 to 4007\n",
      "Data columns (total 11 columns):\n",
      " #   Column                   Non-Null Count  Dtype  \n",
      "---  ------                   --------------  -----  \n",
      " 0   customer                 1071 non-null   object \n",
      " 1   customer_state           1071 non-null   object \n",
      " 2   gender                   954 non-null    object \n",
      " 3   education                1071 non-null   object \n",
      " 4   customer_lifetime_value  1068 non-null   object \n",
      " 5   income                   1071 non-null   float64\n",
      " 6   monthly_auto_premium     1071 non-null   float64\n",
      " 7   open_complaints          1071 non-null   object \n",
      " 8   policy_type              1071 non-null   object \n",
      " 9   vehicle_class            1071 non-null   object \n",
      " 10  total_claim_amount       1071 non-null   float64\n",
      "dtypes: float64(3), object(8)\n",
      "memory usage: 344.6+ KB\n"
     ]
    }
   ],
   "source": [
    "df.info()"
   ]
  },
  {
   "cell_type": "markdown",
   "id": "9cb501ec-36ff-4589-b872-6252bb150316",
   "metadata": {
    "id": "9cb501ec-36ff-4589-b872-6252bb150316"
   },
   "source": [
    "## Exercise 2: Cleaning invalid Values"
   ]
  },
  {
   "cell_type": "markdown",
   "id": "771fdcf3-8e20-4b06-9c24-3a93ba2b0909",
   "metadata": {
    "id": "771fdcf3-8e20-4b06-9c24-3a93ba2b0909"
   },
   "source": [
    "The dataset contains columns with inconsistent and incorrect values that could affect the accuracy of our analysis. Therefore, we need to clean these columns to ensure that they only contain valid data.\n",
    "\n",
    "Note that this exercise will focus only on cleaning inconsistent values and will not involve handling null values (NaN or None).\n",
    "\n",
    "*Hint*:\n",
    "- *Gender column contains various inconsistent values such as \"F\", \"M\", \"Femal\", \"Male\", \"female\", which need to be standardized, for example, to \"M\" and \"F\".*\n",
    "- *State abbreviations be can replaced with its full name, for example \"AZ\": \"Arizona\", \"Cali\": \"California\", \"WA\": \"Washington\"*\n",
    "- *In education, \"Bachelors\" could be replaced by \"Bachelor\"*\n",
    "- *In Customer Lifetime Value, delete the `%` character*\n",
    "- *In vehicle class, \"Sports Car\", \"Luxury SUV\" and \"Luxury Car\" could be replaced by \"Luxury\"*"
   ]
  },
  {
   "cell_type": "code",
   "execution_count": 78,
   "id": "3eda1ec7-8844-43a4-870f-742fbef118dd",
   "metadata": {},
   "outputs": [
    {
     "name": "stdout",
     "output_type": "stream",
     "text": [
      "Requirement already satisfied: regex in /opt/anaconda3/lib/python3.11/site-packages (2023.10.3)\n",
      "Note: you may need to restart the kernel to use updated packages.\n"
     ]
    }
   ],
   "source": [
    "pip install regex"
   ]
  },
  {
   "cell_type": "code",
   "execution_count": 79,
   "id": "7f63d2cd-5571-41e6-a82c-ec3ba952c251",
   "metadata": {},
   "outputs": [],
   "source": [
    "import re"
   ]
  },
  {
   "cell_type": "markdown",
   "id": "acdeb920-4399-4027-8815-5753c38b8702",
   "metadata": {},
   "source": [
    "`Column: gender`\n",
    "- Gender column contains various inconsistent values such as \"F\", \"M\", \"Femal\", \"Male\", \"female\", which need to be standardized, for example, to \"M\" and \"F\"."
   ]
  },
  {
   "cell_type": "code",
   "execution_count": 80,
   "id": "c714c030-28d5-4d35-8e09-5c09fbc07edf",
   "metadata": {},
   "outputs": [
    {
     "data": {
      "text/plain": [
       "array([nan, 'F', 'M', 'Femal', 'Male', 'female'], dtype=object)"
      ]
     },
     "execution_count": 80,
     "metadata": {},
     "output_type": "execute_result"
    }
   ],
   "source": [
    "df[\"gender\"].unique()"
   ]
  },
  {
   "cell_type": "code",
   "execution_count": 81,
   "id": "bb7ae712-e890-400f-b4c5-ac4731a8cdb9",
   "metadata": {},
   "outputs": [],
   "source": [
    "gender_dic = {'Femal': 'F',\n",
    "              'Male': 'M',\n",
    "              'female': 'F'}"
   ]
  },
  {
   "cell_type": "code",
   "execution_count": 82,
   "id": "b0d64ca5-b608-4332-aee9-86bf70a05db3",
   "metadata": {},
   "outputs": [],
   "source": [
    "df['gender'] = df['gender'].replace(gender_dic, regex=True)"
   ]
  },
  {
   "cell_type": "code",
   "execution_count": 83,
   "id": "05c39c60-64ec-4c50-982c-ce955e836d43",
   "metadata": {},
   "outputs": [
    {
     "data": {
      "text/plain": [
       "array([nan, 'F', 'M'], dtype=object)"
      ]
     },
     "execution_count": 83,
     "metadata": {},
     "output_type": "execute_result"
    }
   ],
   "source": [
    "df[\"gender\"].unique()"
   ]
  },
  {
   "cell_type": "markdown",
   "id": "74ea021d-4f9a-41a9-a756-9e2da3d264bf",
   "metadata": {},
   "source": [
    "`Column: customer_state`\n",
    "- State abbreviations be can replaced with its full name, for example \"AZ\": \"Arizona\", \"Cali\": \"California\", \"WA\": \"Washington\""
   ]
  },
  {
   "cell_type": "code",
   "execution_count": 84,
   "id": "ee282516-d495-46b4-9d62-fe3366a22cb1",
   "metadata": {},
   "outputs": [
    {
     "data": {
      "text/plain": [
       "array(['Washington', 'Arizona', 'Nevada', 'California', 'Oregon', 'Cali',\n",
       "       'AZ', 'WA', nan], dtype=object)"
      ]
     },
     "execution_count": 84,
     "metadata": {},
     "output_type": "execute_result"
    }
   ],
   "source": [
    "df[\"customer_state\"].unique()"
   ]
  },
  {
   "cell_type": "code",
   "execution_count": 85,
   "id": "31094f70-587c-485f-a969-655c08174d41",
   "metadata": {},
   "outputs": [],
   "source": [
    "dict_customer_state  = {r\"\\b[Ww]ash(ington)?\\b\": \"Washington\",\n",
    "                       r\"\\b[Aa]riz(ona)?\\b\": \"Arizona\",\n",
    "                       r\"\\b[Nn]eva(da)?\\b\": \"Nevada\",\n",
    "                       r\"\\b[Cc]ali(fornia)?\\b\": \"California\",\n",
    "                       r\"\\bAZ\\b\": \"Arizona\",\n",
    "                       r\"\\bWA\\b\": \"Washington\"\n",
    "                       }"
   ]
  },
  {
   "cell_type": "code",
   "execution_count": 86,
   "id": "19fd5a18-0bb0-4d7c-aabd-4eb9126ca41f",
   "metadata": {},
   "outputs": [
    {
     "data": {
      "text/plain": [
       "array(['Washington', 'Arizona', 'Nevada', 'California', 'Oregon', 'Cali',\n",
       "       'AZ', 'WA', nan], dtype=object)"
      ]
     },
     "execution_count": 86,
     "metadata": {},
     "output_type": "execute_result"
    }
   ],
   "source": [
    "df[\"customer_state\"].unique()"
   ]
  },
  {
   "cell_type": "code",
   "execution_count": 87,
   "id": "8a8921cf-33fa-43f8-92a2-6dc8326363cd",
   "metadata": {},
   "outputs": [],
   "source": [
    "df['customer_state'] = df['customer_state'].replace(dict_customer_state, regex=True)"
   ]
  },
  {
   "cell_type": "code",
   "execution_count": 88,
   "id": "9ee17b7f-6561-4bea-807a-5d07e34fd5af",
   "metadata": {},
   "outputs": [
    {
     "data": {
      "text/plain": [
       "array(['Washington', 'Arizona', 'Nevada', 'California', 'Oregon', nan],\n",
       "      dtype=object)"
      ]
     },
     "execution_count": 88,
     "metadata": {},
     "output_type": "execute_result"
    }
   ],
   "source": [
    "df[\"customer_state\"].unique()"
   ]
  },
  {
   "cell_type": "markdown",
   "id": "fbbca5f3-8a9c-494b-9c42-5c467e0a4caa",
   "metadata": {},
   "source": [
    "`Column: education`\n",
    "- In education, \"Bachelors\" could be replaced by \"Bachelor\""
   ]
  },
  {
   "cell_type": "code",
   "execution_count": 89,
   "id": "bd7c5cb1-af70-4f47-8ac1-fe2ca85cb131",
   "metadata": {},
   "outputs": [
    {
     "data": {
      "text/plain": [
       "array(['Master', 'Bachelor', 'High School or Below', 'College',\n",
       "       'Bachelors', 'Doctor', nan], dtype=object)"
      ]
     },
     "execution_count": 89,
     "metadata": {},
     "output_type": "execute_result"
    }
   ],
   "source": [
    "df[\"education\"].unique()"
   ]
  },
  {
   "cell_type": "code",
   "execution_count": 90,
   "id": "d1c57e60-b84b-4c43-ba6b-6f25633058b1",
   "metadata": {},
   "outputs": [],
   "source": [
    "df['education'] = df['education'].str.replace('Bachelors', 'Bachelor')"
   ]
  },
  {
   "cell_type": "code",
   "execution_count": 91,
   "id": "a877488c-4876-4efd-84d0-1f23d8a094ab",
   "metadata": {},
   "outputs": [
    {
     "data": {
      "text/plain": [
       "array(['Master', 'Bachelor', 'High School or Below', 'College', 'Doctor',\n",
       "       nan], dtype=object)"
      ]
     },
     "execution_count": 91,
     "metadata": {},
     "output_type": "execute_result"
    }
   ],
   "source": [
    "df[\"education\"].unique()"
   ]
  },
  {
   "cell_type": "markdown",
   "id": "34f10c4b-25fd-4713-9e0d-86bb0c776699",
   "metadata": {},
   "source": [
    "`Column: lifetime_value`\n",
    "- In Customer Lifetime Value, delete the % character"
   ]
  },
  {
   "cell_type": "code",
   "execution_count": 92,
   "id": "da9706ce-722b-4eff-b969-404b446922b6",
   "metadata": {},
   "outputs": [
    {
     "data": {
      "text/plain": [
       "array([nan, '697953.59%', '1288743.17%', ..., '2031499.76%', '323912.47%',\n",
       "       '899704.02%'], dtype=object)"
      ]
     },
     "execution_count": 92,
     "metadata": {},
     "output_type": "execute_result"
    }
   ],
   "source": [
    "df[\"customer_lifetime_value\"].unique()"
   ]
  },
  {
   "cell_type": "code",
   "execution_count": 93,
   "id": "4c49c3fd-ed08-4d97-8719-717452298bda",
   "metadata": {},
   "outputs": [],
   "source": [
    "df[\"customer_lifetime_value\"] = df[\"customer_lifetime_value\"].str.replace(r'\\s*%\\s*', '', regex=True)"
   ]
  },
  {
   "cell_type": "code",
   "execution_count": 94,
   "id": "c2572bd8-98b3-488c-b482-602f3dea2f1e",
   "metadata": {},
   "outputs": [
    {
     "data": {
      "text/plain": [
       "array([nan, '697953.59', '1288743.17', ..., '2031499.76', '323912.47',\n",
       "       '899704.02'], dtype=object)"
      ]
     },
     "execution_count": 94,
     "metadata": {},
     "output_type": "execute_result"
    }
   ],
   "source": [
    "df[\"customer_lifetime_value\"].unique()"
   ]
  },
  {
   "cell_type": "markdown",
   "id": "7e5d0dbf-e9cd-416e-8efa-3e1c46c8b1a1",
   "metadata": {},
   "source": [
    "`Column: vehicle_class`\n",
    "- In vehicle class, \"Sports Car\", \"Luxury SUV\" and \"Luxury Car\" could be replaced by \"Luxury\""
   ]
  },
  {
   "cell_type": "code",
   "execution_count": 95,
   "id": "e908b689-d6b3-4f14-9907-362401dbc55c",
   "metadata": {},
   "outputs": [
    {
     "data": {
      "text/plain": [
       "array(['Four-Door Car', 'Two-Door Car', 'SUV', 'Luxury SUV', 'Sports Car',\n",
       "       'Luxury Car', nan], dtype=object)"
      ]
     },
     "execution_count": 95,
     "metadata": {},
     "output_type": "execute_result"
    }
   ],
   "source": [
    "df[\"vehicle_class\"].unique()"
   ]
  },
  {
   "cell_type": "code",
   "execution_count": 96,
   "id": "a130593b-34aa-4321-b33e-fd28ac46e5b8",
   "metadata": {},
   "outputs": [],
   "source": [
    "dict_vehicle_class = {'Sports Car':'Luxury',\n",
    "                     'Luxury SUV': 'Luxury',\n",
    "                     'Luxury Car':'Luxury'}"
   ]
  },
  {
   "cell_type": "code",
   "execution_count": 97,
   "id": "8f2d1c73-14f9-4cc4-a8fa-15954d889eed",
   "metadata": {},
   "outputs": [],
   "source": [
    "df['vehicle_class'] = df['vehicle_class'].replace(dict_vehicle_class, regex=True)"
   ]
  },
  {
   "cell_type": "code",
   "execution_count": 98,
   "id": "ac14d436-c021-4465-8b41-3977a25daf2a",
   "metadata": {},
   "outputs": [
    {
     "data": {
      "text/plain": [
       "array(['Four-Door Car', 'Two-Door Car', 'SUV', 'Luxury', nan],\n",
       "      dtype=object)"
      ]
     },
     "execution_count": 98,
     "metadata": {},
     "output_type": "execute_result"
    }
   ],
   "source": [
    "df[\"vehicle_class\"].unique()"
   ]
  },
  {
   "cell_type": "markdown",
   "id": "85ff78ce-0174-4890-9db3-8048b7d7d2d0",
   "metadata": {
    "id": "85ff78ce-0174-4890-9db3-8048b7d7d2d0"
   },
   "source": [
    "## Exercise 3: Formatting data types"
   ]
  },
  {
   "cell_type": "markdown",
   "id": "b91c2cf8-79a2-4baf-9f65-ff2fb22270bd",
   "metadata": {
    "id": "b91c2cf8-79a2-4baf-9f65-ff2fb22270bd"
   },
   "source": [
    "The data types of many columns in the dataset appear to be incorrect. This could impact the accuracy of our analysis. To ensure accurate analysis, we need to correct the data types of these columns. Please update the data types of the columns as appropriate."
   ]
  },
  {
   "cell_type": "markdown",
   "id": "43e5d853-ff9e-43b2-9d92-aef2f78764f3",
   "metadata": {
    "id": "43e5d853-ff9e-43b2-9d92-aef2f78764f3"
   },
   "source": [
    "It is important to note that this exercise does not involve handling null values (NaN or None)."
   ]
  },
  {
   "cell_type": "markdown",
   "id": "329ca691-9196-4419-8969-3596746237a1",
   "metadata": {
    "id": "329ca691-9196-4419-8969-3596746237a1"
   },
   "source": [
    "*Hint*:\n",
    "- *Customer lifetime value should be numeric*\n",
    "- *Number of open complaints has an incorrect format. Look at the different values it takes with `unique()` and take the middle value. As an example, 1/5/00 should be 5. Number of open complaints is a string - remember you can use `split()` to deal with it and take the number you need. Finally, since it should be numeric, cast the column to be in its proper type.*"
   ]
  },
  {
   "cell_type": "code",
   "execution_count": 99,
   "id": "500321de-acf8-4fdb-963a-b4b522487417",
   "metadata": {},
   "outputs": [
    {
     "name": "stdout",
     "output_type": "stream",
     "text": [
      "<class 'pandas.core.frame.DataFrame'>\n",
      "RangeIndex: 4008 entries, 0 to 4007\n",
      "Data columns (total 11 columns):\n",
      " #   Column                   Non-Null Count  Dtype  \n",
      "---  ------                   --------------  -----  \n",
      " 0   customer                 1071 non-null   object \n",
      " 1   customer_state           1071 non-null   object \n",
      " 2   gender                   954 non-null    object \n",
      " 3   education                1071 non-null   object \n",
      " 4   customer_lifetime_value  1068 non-null   object \n",
      " 5   income                   1071 non-null   float64\n",
      " 6   monthly_auto_premium     1071 non-null   float64\n",
      " 7   open_complaints          1071 non-null   object \n",
      " 8   policy_type              1071 non-null   object \n",
      " 9   vehicle_class            1071 non-null   object \n",
      " 10  total_claim_amount       1071 non-null   float64\n",
      "dtypes: float64(3), object(8)\n",
      "memory usage: 344.6+ KB\n"
     ]
    }
   ],
   "source": [
    "df.info()"
   ]
  },
  {
   "cell_type": "markdown",
   "id": "960c9cc7-70ea-4157-a355-91ea98b00799",
   "metadata": {},
   "source": [
    "`Column: customer_lifetime_value`\n",
    "- Customer lifetime value should be numeric"
   ]
  },
  {
   "cell_type": "code",
   "execution_count": 100,
   "id": "eb8f5991-73e9-405f-bf1c-6b7c589379a9",
   "metadata": {
    "id": "eb8f5991-73e9-405f-bf1c-6b7c589379a9"
   },
   "outputs": [],
   "source": [
    "# Your code here\n",
    "df[\"customer_lifetime_value\"] = pd.to_numeric(df[\"customer_lifetime_value\"])"
   ]
  },
  {
   "cell_type": "code",
   "execution_count": 101,
   "id": "121c6a94-d444-4d42-9d35-b80310578a86",
   "metadata": {},
   "outputs": [
    {
     "name": "stdout",
     "output_type": "stream",
     "text": [
      "<class 'pandas.core.frame.DataFrame'>\n",
      "RangeIndex: 4008 entries, 0 to 4007\n",
      "Data columns (total 11 columns):\n",
      " #   Column                   Non-Null Count  Dtype  \n",
      "---  ------                   --------------  -----  \n",
      " 0   customer                 1071 non-null   object \n",
      " 1   customer_state           1071 non-null   object \n",
      " 2   gender                   954 non-null    object \n",
      " 3   education                1071 non-null   object \n",
      " 4   customer_lifetime_value  1068 non-null   float64\n",
      " 5   income                   1071 non-null   float64\n",
      " 6   monthly_auto_premium     1071 non-null   float64\n",
      " 7   open_complaints          1071 non-null   object \n",
      " 8   policy_type              1071 non-null   object \n",
      " 9   vehicle_class            1071 non-null   object \n",
      " 10  total_claim_amount       1071 non-null   float64\n",
      "dtypes: float64(4), object(7)\n",
      "memory usage: 344.6+ KB\n"
     ]
    }
   ],
   "source": [
    "df.info()"
   ]
  },
  {
   "cell_type": "markdown",
   "id": "7351d6f4-0b28-48ee-8282-32219520eec9",
   "metadata": {},
   "source": [
    "`Column: open_complaints`\n",
    "- Number of open complaints has an incorrect format. Look at the different values it takes with unique() and take the middle value. As an example, 1/5/00 should be 5. Number of open complaints is a string - remember you can use split() to deal with it and take the number you need. Finally, since it should be numeric, cast the column to be in its proper type."
   ]
  },
  {
   "cell_type": "code",
   "execution_count": 102,
   "id": "b61a2fb2-84ef-4bb2-9368-fc19d2fa4556",
   "metadata": {},
   "outputs": [
    {
     "data": {
      "text/plain": [
       "array(['1/0/00', '1/2/00', '1/1/00', '1/3/00', '1/5/00', '1/4/00', nan],\n",
       "      dtype=object)"
      ]
     },
     "execution_count": 102,
     "metadata": {},
     "output_type": "execute_result"
    }
   ],
   "source": [
    "df['open_complaints'].unique()"
   ]
  },
  {
   "cell_type": "code",
   "execution_count": 103,
   "id": "3e994a81-31ca-4716-88af-3cd083d7d0cf",
   "metadata": {},
   "outputs": [],
   "source": [
    "df['open_complaints'] = df['open_complaints'].str.split('/', expand=True)[1] #expand=True se agrega para manejar los nulls"
   ]
  },
  {
   "cell_type": "code",
   "execution_count": 104,
   "id": "ddc38cac-141e-4648-ad75-c5be68936a16",
   "metadata": {},
   "outputs": [
    {
     "data": {
      "text/plain": [
       "array(['0', '2', '1', '3', '5', '4', nan], dtype=object)"
      ]
     },
     "execution_count": 104,
     "metadata": {},
     "output_type": "execute_result"
    }
   ],
   "source": [
    "df['open_complaints'].unique()"
   ]
  },
  {
   "cell_type": "code",
   "execution_count": 105,
   "id": "cf70ea62-563e-45fd-af0c-d1a9ad7480ce",
   "metadata": {},
   "outputs": [],
   "source": [
    "df['open_complaints'] = pd.to_numeric(df[\"open_complaints\"], errors='coerce')"
   ]
  },
  {
   "cell_type": "code",
   "execution_count": 106,
   "id": "529e8ceb-ffa7-4b42-a2fb-731a0b7cb79d",
   "metadata": {},
   "outputs": [],
   "source": [
    "df['open_complaints'] = df['open_complaints'].astype('Int64')"
   ]
  },
  {
   "cell_type": "code",
   "execution_count": 107,
   "id": "9926301d-0787-4136-887e-37826139b2ff",
   "metadata": {},
   "outputs": [
    {
     "name": "stdout",
     "output_type": "stream",
     "text": [
      "<class 'pandas.core.frame.DataFrame'>\n",
      "RangeIndex: 4008 entries, 0 to 4007\n",
      "Data columns (total 11 columns):\n",
      " #   Column                   Non-Null Count  Dtype  \n",
      "---  ------                   --------------  -----  \n",
      " 0   customer                 1071 non-null   object \n",
      " 1   customer_state           1071 non-null   object \n",
      " 2   gender                   954 non-null    object \n",
      " 3   education                1071 non-null   object \n",
      " 4   customer_lifetime_value  1068 non-null   float64\n",
      " 5   income                   1071 non-null   float64\n",
      " 6   monthly_auto_premium     1071 non-null   float64\n",
      " 7   open_complaints          1071 non-null   Int64  \n",
      " 8   policy_type              1071 non-null   object \n",
      " 9   vehicle_class            1071 non-null   object \n",
      " 10  total_claim_amount       1071 non-null   float64\n",
      "dtypes: Int64(1), float64(4), object(6)\n",
      "memory usage: 348.5+ KB\n"
     ]
    }
   ],
   "source": [
    "df.info()"
   ]
  },
  {
   "cell_type": "markdown",
   "id": "14c52e28-2d0c-4dd2-8bd5-3476e34fadc1",
   "metadata": {
    "id": "14c52e28-2d0c-4dd2-8bd5-3476e34fadc1"
   },
   "source": [
    "## Exercise 4: Dealing with Null values"
   ]
  },
  {
   "cell_type": "markdown",
   "id": "34b9a20f-7d32-4417-975e-1b4dfb0e16cd",
   "metadata": {
    "id": "34b9a20f-7d32-4417-975e-1b4dfb0e16cd"
   },
   "source": [
    "Identify any columns with null or missing values. Identify how many null values each column has. You can use the `isnull()` function in pandas to find columns with null values.\n",
    "\n",
    "Decide on a strategy for handling the null values. There are several options, including:\n",
    "\n",
    "- Drop the rows or columns with null values\n",
    "- Fill the null values with a specific value (such as the column mean or median for numerical variables, and mode for categorical variables)\n",
    "- Fill the null values with the previous or next value in the column\n",
    "- Fill the null values based on a more complex algorithm or model (note: we haven't covered this yet)\n",
    "\n",
    "Implement your chosen strategy to handle the null values. You can use the `fillna()` function in pandas to fill null values or `dropna()` function to drop null values.\n",
    "\n",
    "Verify that your strategy has successfully handled the null values. You can use the `isnull()` function again to check if there are still null values in the dataset.\n",
    "\n",
    "Remember to document your process and explain your reasoning for choosing a particular strategy for handling null values.\n",
    "\n",
    "After formatting data types, as a last step, convert all the numeric variables to integers."
   ]
  },
  {
   "cell_type": "code",
   "execution_count": 108,
   "id": "f184fc35-7831-4836-a0a5-e7f99e01b40e",
   "metadata": {
    "id": "f184fc35-7831-4836-a0a5-e7f99e01b40e"
   },
   "outputs": [
    {
     "name": "stdout",
     "output_type": "stream",
     "text": [
      "<class 'pandas.core.frame.DataFrame'>\n",
      "RangeIndex: 4008 entries, 0 to 4007\n",
      "Data columns (total 11 columns):\n",
      " #   Column                   Non-Null Count  Dtype  \n",
      "---  ------                   --------------  -----  \n",
      " 0   customer                 1071 non-null   object \n",
      " 1   customer_state           1071 non-null   object \n",
      " 2   gender                   954 non-null    object \n",
      " 3   education                1071 non-null   object \n",
      " 4   customer_lifetime_value  1068 non-null   float64\n",
      " 5   income                   1071 non-null   float64\n",
      " 6   monthly_auto_premium     1071 non-null   float64\n",
      " 7   open_complaints          1071 non-null   Int64  \n",
      " 8   policy_type              1071 non-null   object \n",
      " 9   vehicle_class            1071 non-null   object \n",
      " 10  total_claim_amount       1071 non-null   float64\n",
      "dtypes: Int64(1), float64(4), object(6)\n",
      "memory usage: 348.5+ KB\n"
     ]
    }
   ],
   "source": [
    "# Your code here\n",
    "df.info()"
   ]
  },
  {
   "cell_type": "code",
   "execution_count": 109,
   "id": "fc0278ec-d654-40f7-a167-098cbed617ba",
   "metadata": {},
   "outputs": [],
   "source": [
    "#Identify any columns with null or missing values. \n",
    "#Identify how many null values each column has. You can use the isnull() function in pandas to find columns with null values."
   ]
  },
  {
   "cell_type": "code",
   "execution_count": 110,
   "id": "9e6574f0-a260-4c62-8af5-5143d75fd65c",
   "metadata": {},
   "outputs": [
    {
     "name": "stdout",
     "output_type": "stream",
     "text": [
      "Columna 'customer' tiene 2937 valores nulos.\n",
      "Columna 'customer_state' tiene 2937 valores nulos.\n",
      "Columna 'gender' tiene 3054 valores nulos.\n",
      "Columna 'education' tiene 2937 valores nulos.\n",
      "Columna 'customer_lifetime_value' tiene 2940 valores nulos.\n",
      "Columna 'income' tiene 2937 valores nulos.\n",
      "Columna 'monthly_auto_premium' tiene 2937 valores nulos.\n",
      "Columna 'open_complaints' tiene 2937 valores nulos.\n",
      "Columna 'policy_type' tiene 2937 valores nulos.\n",
      "Columna 'vehicle_class' tiene 2937 valores nulos.\n",
      "Columna 'total_claim_amount' tiene 2937 valores nulos.\n"
     ]
    }
   ],
   "source": [
    "columns_with_nulls = df.columns[df.isnull().any()] # Identificar columnas con valores nulos\n",
    "\n",
    "# Iterar sobre las columnas con valores nulos y contar la cantidad de valores nulos en cada una\n",
    "for column in columns_with_nulls:\n",
    "    null_count = df[column].isnull().sum()\n",
    "    print(f\"Columna '{column}' tiene {null_count} valores nulos.\")"
   ]
  },
  {
   "cell_type": "code",
   "execution_count": 111,
   "id": "670f5e0d-51a2-4016-ab59-adccaf87d170",
   "metadata": {},
   "outputs": [],
   "source": [
    "#fill the null values with a specific value (such as the column mean or median for numerical variables, \n",
    "#and mode for categorical variables)"
   ]
  },
  {
   "cell_type": "markdown",
   "id": "3ae17e06-7b35-4d55-b686-f4f28f211fef",
   "metadata": {},
   "source": [
    "`Categorical variable:` for categorical variables I decide to apply the mode to fill nulls values, choosing the value that appears most frequently in that column and using it to replace the missing values:\n",
    "- customer_state\n",
    "- gender\n",
    "- education\n",
    "- policy_type\n",
    "- vehicle_class"
   ]
  },
  {
   "cell_type": "code",
   "execution_count": 112,
   "id": "2cc6a02c-70f8-423a-856e-f32fe7f08de9",
   "metadata": {},
   "outputs": [
    {
     "name": "stdout",
     "output_type": "stream",
     "text": [
      "0    California\n",
      "Name: customer_state, dtype: object\n"
     ]
    }
   ],
   "source": [
    "mode_customer_state = df['customer_state'].mode()\n",
    "print(mode_customer_state)"
   ]
  },
  {
   "cell_type": "code",
   "execution_count": 113,
   "id": "eeef1d4a-2b18-4f38-a25e-f7ba6f1b2f18",
   "metadata": {},
   "outputs": [],
   "source": [
    "df['customer_state'].fillna('California', inplace=True)"
   ]
  },
  {
   "cell_type": "code",
   "execution_count": 114,
   "id": "3ea3728f-0865-44d9-9186-68c37572daf1",
   "metadata": {},
   "outputs": [
    {
     "name": "stdout",
     "output_type": "stream",
     "text": [
      "0    F\n",
      "Name: gender, dtype: object\n"
     ]
    }
   ],
   "source": [
    "mode_gender = df['gender'].mode()\n",
    "print(mode_gender)"
   ]
  },
  {
   "cell_type": "code",
   "execution_count": 115,
   "id": "c091f27c-229c-4b15-b405-5e8c32367a14",
   "metadata": {},
   "outputs": [],
   "source": [
    "df['gender'].fillna('F', inplace=True)"
   ]
  },
  {
   "cell_type": "code",
   "execution_count": 116,
   "id": "ff710ee8-ba93-45d6-bf4b-0176516f6f66",
   "metadata": {},
   "outputs": [
    {
     "name": "stdout",
     "output_type": "stream",
     "text": [
      "0    Bachelor\n",
      "Name: education, dtype: object\n"
     ]
    }
   ],
   "source": [
    "mode_education = df['education'].mode()\n",
    "print(mode_education)"
   ]
  },
  {
   "cell_type": "code",
   "execution_count": 117,
   "id": "e2a90789-3941-4e17-8c14-7b82f15eb7bc",
   "metadata": {},
   "outputs": [],
   "source": [
    "df['education'].fillna('Bachelor', inplace=True)"
   ]
  },
  {
   "cell_type": "code",
   "execution_count": 118,
   "id": "af58f84f-c41d-4b5e-a4c8-07b15e2c08b4",
   "metadata": {},
   "outputs": [
    {
     "name": "stdout",
     "output_type": "stream",
     "text": [
      "0    Personal Auto\n",
      "Name: policy_type, dtype: object\n"
     ]
    }
   ],
   "source": [
    "mode_policy_type = df['policy_type'].mode()\n",
    "print(mode_policy_type)"
   ]
  },
  {
   "cell_type": "code",
   "execution_count": 119,
   "id": "87fc7d24-3f38-4bc5-a6eb-47767187ec3d",
   "metadata": {},
   "outputs": [],
   "source": [
    "df['policy_type'].fillna('Personal Auto', inplace=True)"
   ]
  },
  {
   "cell_type": "code",
   "execution_count": 120,
   "id": "f0561967-4bce-44fe-bc06-be6055e71594",
   "metadata": {},
   "outputs": [
    {
     "data": {
      "text/plain": [
       "0    Four-Door Car\n",
       "Name: vehicle_class, dtype: object"
      ]
     },
     "execution_count": 120,
     "metadata": {},
     "output_type": "execute_result"
    }
   ],
   "source": [
    "mode_vehicle_class = df['vehicle_class'].mode()\n",
    "mode_vehicle_class"
   ]
  },
  {
   "cell_type": "code",
   "execution_count": 121,
   "id": "142ebcf5-df9b-4573-971a-89e8c2b03608",
   "metadata": {},
   "outputs": [],
   "source": [
    "df['vehicle_class'].fillna('Four-Door Car', inplace=True)"
   ]
  },
  {
   "cell_type": "code",
   "execution_count": 122,
   "id": "c84611c5-4a51-450f-b6e2-c1ed4384c08f",
   "metadata": {},
   "outputs": [
    {
     "data": {
      "text/html": [
       "<div>\n",
       "<style scoped>\n",
       "    .dataframe tbody tr th:only-of-type {\n",
       "        vertical-align: middle;\n",
       "    }\n",
       "\n",
       "    .dataframe tbody tr th {\n",
       "        vertical-align: top;\n",
       "    }\n",
       "\n",
       "    .dataframe thead th {\n",
       "        text-align: right;\n",
       "    }\n",
       "</style>\n",
       "<table border=\"1\" class=\"dataframe\">\n",
       "  <thead>\n",
       "    <tr style=\"text-align: right;\">\n",
       "      <th></th>\n",
       "      <th>customer</th>\n",
       "      <th>customer_state</th>\n",
       "      <th>gender</th>\n",
       "      <th>education</th>\n",
       "      <th>customer_lifetime_value</th>\n",
       "      <th>income</th>\n",
       "      <th>monthly_auto_premium</th>\n",
       "      <th>open_complaints</th>\n",
       "      <th>policy_type</th>\n",
       "      <th>vehicle_class</th>\n",
       "      <th>total_claim_amount</th>\n",
       "    </tr>\n",
       "  </thead>\n",
       "  <tbody>\n",
       "    <tr>\n",
       "      <th>0</th>\n",
       "      <td>False</td>\n",
       "      <td>False</td>\n",
       "      <td>False</td>\n",
       "      <td>False</td>\n",
       "      <td>True</td>\n",
       "      <td>False</td>\n",
       "      <td>False</td>\n",
       "      <td>False</td>\n",
       "      <td>False</td>\n",
       "      <td>False</td>\n",
       "      <td>False</td>\n",
       "    </tr>\n",
       "    <tr>\n",
       "      <th>1</th>\n",
       "      <td>False</td>\n",
       "      <td>False</td>\n",
       "      <td>False</td>\n",
       "      <td>False</td>\n",
       "      <td>False</td>\n",
       "      <td>False</td>\n",
       "      <td>False</td>\n",
       "      <td>False</td>\n",
       "      <td>False</td>\n",
       "      <td>False</td>\n",
       "      <td>False</td>\n",
       "    </tr>\n",
       "    <tr>\n",
       "      <th>2</th>\n",
       "      <td>False</td>\n",
       "      <td>False</td>\n",
       "      <td>False</td>\n",
       "      <td>False</td>\n",
       "      <td>False</td>\n",
       "      <td>False</td>\n",
       "      <td>False</td>\n",
       "      <td>False</td>\n",
       "      <td>False</td>\n",
       "      <td>False</td>\n",
       "      <td>False</td>\n",
       "    </tr>\n",
       "    <tr>\n",
       "      <th>3</th>\n",
       "      <td>False</td>\n",
       "      <td>False</td>\n",
       "      <td>False</td>\n",
       "      <td>False</td>\n",
       "      <td>False</td>\n",
       "      <td>False</td>\n",
       "      <td>False</td>\n",
       "      <td>False</td>\n",
       "      <td>False</td>\n",
       "      <td>False</td>\n",
       "      <td>False</td>\n",
       "    </tr>\n",
       "    <tr>\n",
       "      <th>4</th>\n",
       "      <td>False</td>\n",
       "      <td>False</td>\n",
       "      <td>False</td>\n",
       "      <td>False</td>\n",
       "      <td>False</td>\n",
       "      <td>False</td>\n",
       "      <td>False</td>\n",
       "      <td>False</td>\n",
       "      <td>False</td>\n",
       "      <td>False</td>\n",
       "      <td>False</td>\n",
       "    </tr>\n",
       "    <tr>\n",
       "      <th>...</th>\n",
       "      <td>...</td>\n",
       "      <td>...</td>\n",
       "      <td>...</td>\n",
       "      <td>...</td>\n",
       "      <td>...</td>\n",
       "      <td>...</td>\n",
       "      <td>...</td>\n",
       "      <td>...</td>\n",
       "      <td>...</td>\n",
       "      <td>...</td>\n",
       "      <td>...</td>\n",
       "    </tr>\n",
       "    <tr>\n",
       "      <th>4003</th>\n",
       "      <td>True</td>\n",
       "      <td>False</td>\n",
       "      <td>False</td>\n",
       "      <td>False</td>\n",
       "      <td>True</td>\n",
       "      <td>True</td>\n",
       "      <td>True</td>\n",
       "      <td>True</td>\n",
       "      <td>False</td>\n",
       "      <td>False</td>\n",
       "      <td>True</td>\n",
       "    </tr>\n",
       "    <tr>\n",
       "      <th>4004</th>\n",
       "      <td>True</td>\n",
       "      <td>False</td>\n",
       "      <td>False</td>\n",
       "      <td>False</td>\n",
       "      <td>True</td>\n",
       "      <td>True</td>\n",
       "      <td>True</td>\n",
       "      <td>True</td>\n",
       "      <td>False</td>\n",
       "      <td>False</td>\n",
       "      <td>True</td>\n",
       "    </tr>\n",
       "    <tr>\n",
       "      <th>4005</th>\n",
       "      <td>True</td>\n",
       "      <td>False</td>\n",
       "      <td>False</td>\n",
       "      <td>False</td>\n",
       "      <td>True</td>\n",
       "      <td>True</td>\n",
       "      <td>True</td>\n",
       "      <td>True</td>\n",
       "      <td>False</td>\n",
       "      <td>False</td>\n",
       "      <td>True</td>\n",
       "    </tr>\n",
       "    <tr>\n",
       "      <th>4006</th>\n",
       "      <td>True</td>\n",
       "      <td>False</td>\n",
       "      <td>False</td>\n",
       "      <td>False</td>\n",
       "      <td>True</td>\n",
       "      <td>True</td>\n",
       "      <td>True</td>\n",
       "      <td>True</td>\n",
       "      <td>False</td>\n",
       "      <td>False</td>\n",
       "      <td>True</td>\n",
       "    </tr>\n",
       "    <tr>\n",
       "      <th>4007</th>\n",
       "      <td>True</td>\n",
       "      <td>False</td>\n",
       "      <td>False</td>\n",
       "      <td>False</td>\n",
       "      <td>True</td>\n",
       "      <td>True</td>\n",
       "      <td>True</td>\n",
       "      <td>True</td>\n",
       "      <td>False</td>\n",
       "      <td>False</td>\n",
       "      <td>True</td>\n",
       "    </tr>\n",
       "  </tbody>\n",
       "</table>\n",
       "<p>4008 rows × 11 columns</p>\n",
       "</div>"
      ],
      "text/plain": [
       "      customer  customer_state  gender  education  customer_lifetime_value  \\\n",
       "0        False           False   False      False                     True   \n",
       "1        False           False   False      False                    False   \n",
       "2        False           False   False      False                    False   \n",
       "3        False           False   False      False                    False   \n",
       "4        False           False   False      False                    False   \n",
       "...        ...             ...     ...        ...                      ...   \n",
       "4003      True           False   False      False                     True   \n",
       "4004      True           False   False      False                     True   \n",
       "4005      True           False   False      False                     True   \n",
       "4006      True           False   False      False                     True   \n",
       "4007      True           False   False      False                     True   \n",
       "\n",
       "      income  monthly_auto_premium  open_complaints  policy_type  \\\n",
       "0      False                 False            False        False   \n",
       "1      False                 False            False        False   \n",
       "2      False                 False            False        False   \n",
       "3      False                 False            False        False   \n",
       "4      False                 False            False        False   \n",
       "...      ...                   ...              ...          ...   \n",
       "4003    True                  True             True        False   \n",
       "4004    True                  True             True        False   \n",
       "4005    True                  True             True        False   \n",
       "4006    True                  True             True        False   \n",
       "4007    True                  True             True        False   \n",
       "\n",
       "      vehicle_class  total_claim_amount  \n",
       "0             False               False  \n",
       "1             False               False  \n",
       "2             False               False  \n",
       "3             False               False  \n",
       "4             False               False  \n",
       "...             ...                 ...  \n",
       "4003          False                True  \n",
       "4004          False                True  \n",
       "4005          False                True  \n",
       "4006          False                True  \n",
       "4007          False                True  \n",
       "\n",
       "[4008 rows x 11 columns]"
      ]
     },
     "execution_count": 122,
     "metadata": {},
     "output_type": "execute_result"
    }
   ],
   "source": [
    "df.isnull()"
   ]
  },
  {
   "cell_type": "markdown",
   "id": "a5af7ae6-8768-45ef-acf5-3cbfd9290d6a",
   "metadata": {},
   "source": [
    "`Numerical variables:` for numerical variables I decide to apply the median because is less sensitive to extreme values:\n",
    "- customer\n",
    "- customer_lifetime_value\n",
    "- income\n",
    "- monthly_auto_premium\n",
    "- open_complaints\n",
    "- total_claim_amount"
   ]
  },
  {
   "cell_type": "code",
   "execution_count": 123,
   "id": "e2b1f743-3f31-48fc-8ab3-5426e454354f",
   "metadata": {},
   "outputs": [],
   "source": [
    "df['customer'].fillna('none', inplace=True)"
   ]
  },
  {
   "cell_type": "code",
   "execution_count": 124,
   "id": "fecc6f33-54c2-4a52-a53e-57f58cef9a8c",
   "metadata": {},
   "outputs": [
    {
     "data": {
      "text/plain": [
       "588174.235"
      ]
     },
     "execution_count": 124,
     "metadata": {},
     "output_type": "execute_result"
    }
   ],
   "source": [
    "media_customer_lifetime = df['customer_lifetime_value'].median()\n",
    "media_customer_lifetime"
   ]
  },
  {
   "cell_type": "code",
   "execution_count": 125,
   "id": "c7d3dc7a-509f-4849-bada-3c0a3dba8433",
   "metadata": {},
   "outputs": [],
   "source": [
    "df['customer_lifetime_value'].fillna(588174.235, inplace=True)"
   ]
  },
  {
   "cell_type": "code",
   "execution_count": 126,
   "id": "1959237e-36cd-4ecc-8041-742583c9877e",
   "metadata": {},
   "outputs": [
    {
     "data": {
      "text/plain": [
       "36234.0"
      ]
     },
     "execution_count": 126,
     "metadata": {},
     "output_type": "execute_result"
    }
   ],
   "source": [
    "median_income = df['income'].median()\n",
    "median_income"
   ]
  },
  {
   "cell_type": "code",
   "execution_count": 127,
   "id": "3689e1cc-7f42-49be-ba8c-0a4c0aadefb5",
   "metadata": {},
   "outputs": [],
   "source": [
    "df['income'].fillna(36234.0, inplace=True)"
   ]
  },
  {
   "cell_type": "code",
   "execution_count": 128,
   "id": "580a6509-6122-47cd-a272-8e805bf1c6d6",
   "metadata": {},
   "outputs": [
    {
     "data": {
      "text/plain": [
       "83.0"
      ]
     },
     "execution_count": 128,
     "metadata": {},
     "output_type": "execute_result"
    }
   ],
   "source": [
    "median_auto = df['monthly_auto_premium'].median()\n",
    "median_auto"
   ]
  },
  {
   "cell_type": "code",
   "execution_count": null,
   "id": "a459427c-0b30-4241-8e6d-b8944ad7c1ac",
   "metadata": {},
   "outputs": [],
   "source": [
    "df['monthly_auto_premium'].fillna(0.0, inplace=True)"
   ]
  },
  {
   "cell_type": "code",
   "execution_count": 129,
   "id": "012145d9-c9e1-4568-bc14-4a19e341c23d",
   "metadata": {},
   "outputs": [
    {
     "data": {
      "text/plain": [
       "0.0"
      ]
     },
     "execution_count": 129,
     "metadata": {},
     "output_type": "execute_result"
    }
   ],
   "source": [
    "complaint_median = df['open_complaints'].median()\n",
    "complaint_median"
   ]
  },
  {
   "cell_type": "code",
   "execution_count": 130,
   "id": "1e3438c4-91d7-416e-9d50-bfb9558fc31d",
   "metadata": {},
   "outputs": [],
   "source": [
    "df['open_complaints'].fillna(0, inplace=True)"
   ]
  },
  {
   "cell_type": "code",
   "execution_count": 2,
   "id": "13bb45a5-da2d-4f19-bc75-557eaf8aa044",
   "metadata": {},
   "outputs": [
    {
     "ename": "NameError",
     "evalue": "name 'dfdf' is not defined",
     "output_type": "error",
     "traceback": [
      "\u001b[0;31m---------------------------------------------------------------------------\u001b[0m",
      "\u001b[0;31mNameError\u001b[0m                                 Traceback (most recent call last)",
      "Cell \u001b[0;32mIn[2], line 1\u001b[0m\n\u001b[0;32m----> 1\u001b[0m median_claim \u001b[38;5;241m=\u001b[39m dfdf[\u001b[38;5;124m'\u001b[39m\u001b[38;5;124mtotal_claim_amount\u001b[39m\u001b[38;5;124m'\u001b[39m]\u001b[38;5;241m.\u001b[39mmedian()\n\u001b[1;32m      2\u001b[0m median_claim\n",
      "\u001b[0;31mNameError\u001b[0m: name 'dfdf' is not defined"
     ]
    }
   ],
   "source": [
    "median_claim = dfdf['total_claim_amount'].median()\n",
    "median_claim"
   ]
  },
  {
   "cell_type": "code",
   "execution_count": null,
   "id": "d2b820dc-ce7a-422f-886b-b17f13b34088",
   "metadata": {},
   "outputs": [],
   "source": [
    "df['monthly_auto_premium'].fillna(83.0, inplace=True)"
   ]
  },
  {
   "cell_type": "code",
   "execution_count": 131,
   "id": "c71a2321-9e43-4e7e-93ce-ced5efc4499c",
   "metadata": {
    "scrolled": true
   },
   "outputs": [
    {
     "data": {
      "text/html": [
       "<div>\n",
       "<style scoped>\n",
       "    .dataframe tbody tr th:only-of-type {\n",
       "        vertical-align: middle;\n",
       "    }\n",
       "\n",
       "    .dataframe tbody tr th {\n",
       "        vertical-align: top;\n",
       "    }\n",
       "\n",
       "    .dataframe thead th {\n",
       "        text-align: right;\n",
       "    }\n",
       "</style>\n",
       "<table border=\"1\" class=\"dataframe\">\n",
       "  <thead>\n",
       "    <tr style=\"text-align: right;\">\n",
       "      <th></th>\n",
       "      <th>customer</th>\n",
       "      <th>customer_state</th>\n",
       "      <th>gender</th>\n",
       "      <th>education</th>\n",
       "      <th>customer_lifetime_value</th>\n",
       "      <th>income</th>\n",
       "      <th>monthly_auto_premium</th>\n",
       "      <th>open_complaints</th>\n",
       "      <th>policy_type</th>\n",
       "      <th>vehicle_class</th>\n",
       "      <th>total_claim_amount</th>\n",
       "    </tr>\n",
       "  </thead>\n",
       "  <tbody>\n",
       "    <tr>\n",
       "      <th>0</th>\n",
       "      <td>False</td>\n",
       "      <td>False</td>\n",
       "      <td>False</td>\n",
       "      <td>False</td>\n",
       "      <td>False</td>\n",
       "      <td>False</td>\n",
       "      <td>False</td>\n",
       "      <td>False</td>\n",
       "      <td>False</td>\n",
       "      <td>False</td>\n",
       "      <td>False</td>\n",
       "    </tr>\n",
       "    <tr>\n",
       "      <th>1</th>\n",
       "      <td>False</td>\n",
       "      <td>False</td>\n",
       "      <td>False</td>\n",
       "      <td>False</td>\n",
       "      <td>False</td>\n",
       "      <td>False</td>\n",
       "      <td>False</td>\n",
       "      <td>False</td>\n",
       "      <td>False</td>\n",
       "      <td>False</td>\n",
       "      <td>False</td>\n",
       "    </tr>\n",
       "    <tr>\n",
       "      <th>2</th>\n",
       "      <td>False</td>\n",
       "      <td>False</td>\n",
       "      <td>False</td>\n",
       "      <td>False</td>\n",
       "      <td>False</td>\n",
       "      <td>False</td>\n",
       "      <td>False</td>\n",
       "      <td>False</td>\n",
       "      <td>False</td>\n",
       "      <td>False</td>\n",
       "      <td>False</td>\n",
       "    </tr>\n",
       "    <tr>\n",
       "      <th>3</th>\n",
       "      <td>False</td>\n",
       "      <td>False</td>\n",
       "      <td>False</td>\n",
       "      <td>False</td>\n",
       "      <td>False</td>\n",
       "      <td>False</td>\n",
       "      <td>False</td>\n",
       "      <td>False</td>\n",
       "      <td>False</td>\n",
       "      <td>False</td>\n",
       "      <td>False</td>\n",
       "    </tr>\n",
       "    <tr>\n",
       "      <th>4</th>\n",
       "      <td>False</td>\n",
       "      <td>False</td>\n",
       "      <td>False</td>\n",
       "      <td>False</td>\n",
       "      <td>False</td>\n",
       "      <td>False</td>\n",
       "      <td>False</td>\n",
       "      <td>False</td>\n",
       "      <td>False</td>\n",
       "      <td>False</td>\n",
       "      <td>False</td>\n",
       "    </tr>\n",
       "    <tr>\n",
       "      <th>...</th>\n",
       "      <td>...</td>\n",
       "      <td>...</td>\n",
       "      <td>...</td>\n",
       "      <td>...</td>\n",
       "      <td>...</td>\n",
       "      <td>...</td>\n",
       "      <td>...</td>\n",
       "      <td>...</td>\n",
       "      <td>...</td>\n",
       "      <td>...</td>\n",
       "      <td>...</td>\n",
       "    </tr>\n",
       "    <tr>\n",
       "      <th>4003</th>\n",
       "      <td>False</td>\n",
       "      <td>False</td>\n",
       "      <td>False</td>\n",
       "      <td>False</td>\n",
       "      <td>False</td>\n",
       "      <td>False</td>\n",
       "      <td>True</td>\n",
       "      <td>False</td>\n",
       "      <td>False</td>\n",
       "      <td>False</td>\n",
       "      <td>True</td>\n",
       "    </tr>\n",
       "    <tr>\n",
       "      <th>4004</th>\n",
       "      <td>False</td>\n",
       "      <td>False</td>\n",
       "      <td>False</td>\n",
       "      <td>False</td>\n",
       "      <td>False</td>\n",
       "      <td>False</td>\n",
       "      <td>True</td>\n",
       "      <td>False</td>\n",
       "      <td>False</td>\n",
       "      <td>False</td>\n",
       "      <td>True</td>\n",
       "    </tr>\n",
       "    <tr>\n",
       "      <th>4005</th>\n",
       "      <td>False</td>\n",
       "      <td>False</td>\n",
       "      <td>False</td>\n",
       "      <td>False</td>\n",
       "      <td>False</td>\n",
       "      <td>False</td>\n",
       "      <td>True</td>\n",
       "      <td>False</td>\n",
       "      <td>False</td>\n",
       "      <td>False</td>\n",
       "      <td>True</td>\n",
       "    </tr>\n",
       "    <tr>\n",
       "      <th>4006</th>\n",
       "      <td>False</td>\n",
       "      <td>False</td>\n",
       "      <td>False</td>\n",
       "      <td>False</td>\n",
       "      <td>False</td>\n",
       "      <td>False</td>\n",
       "      <td>True</td>\n",
       "      <td>False</td>\n",
       "      <td>False</td>\n",
       "      <td>False</td>\n",
       "      <td>True</td>\n",
       "    </tr>\n",
       "    <tr>\n",
       "      <th>4007</th>\n",
       "      <td>False</td>\n",
       "      <td>False</td>\n",
       "      <td>False</td>\n",
       "      <td>False</td>\n",
       "      <td>False</td>\n",
       "      <td>False</td>\n",
       "      <td>True</td>\n",
       "      <td>False</td>\n",
       "      <td>False</td>\n",
       "      <td>False</td>\n",
       "      <td>True</td>\n",
       "    </tr>\n",
       "  </tbody>\n",
       "</table>\n",
       "<p>4008 rows × 11 columns</p>\n",
       "</div>"
      ],
      "text/plain": [
       "      customer  customer_state  gender  education  customer_lifetime_value  \\\n",
       "0        False           False   False      False                    False   \n",
       "1        False           False   False      False                    False   \n",
       "2        False           False   False      False                    False   \n",
       "3        False           False   False      False                    False   \n",
       "4        False           False   False      False                    False   \n",
       "...        ...             ...     ...        ...                      ...   \n",
       "4003     False           False   False      False                    False   \n",
       "4004     False           False   False      False                    False   \n",
       "4005     False           False   False      False                    False   \n",
       "4006     False           False   False      False                    False   \n",
       "4007     False           False   False      False                    False   \n",
       "\n",
       "      income  monthly_auto_premium  open_complaints  policy_type  \\\n",
       "0      False                 False            False        False   \n",
       "1      False                 False            False        False   \n",
       "2      False                 False            False        False   \n",
       "3      False                 False            False        False   \n",
       "4      False                 False            False        False   \n",
       "...      ...                   ...              ...          ...   \n",
       "4003   False                  True            False        False   \n",
       "4004   False                  True            False        False   \n",
       "4005   False                  True            False        False   \n",
       "4006   False                  True            False        False   \n",
       "4007   False                  True            False        False   \n",
       "\n",
       "      vehicle_class  total_claim_amount  \n",
       "0             False               False  \n",
       "1             False               False  \n",
       "2             False               False  \n",
       "3             False               False  \n",
       "4             False               False  \n",
       "...             ...                 ...  \n",
       "4003          False                True  \n",
       "4004          False                True  \n",
       "4005          False                True  \n",
       "4006          False                True  \n",
       "4007          False                True  \n",
       "\n",
       "[4008 rows x 11 columns]"
      ]
     },
     "execution_count": 131,
     "metadata": {},
     "output_type": "execute_result"
    }
   ],
   "source": [
    "df.isnull()"
   ]
  },
  {
   "cell_type": "code",
   "execution_count": 132,
   "id": "294721ee-0944-45ce-a49f-493e44b8a2af",
   "metadata": {},
   "outputs": [
    {
     "name": "stdout",
     "output_type": "stream",
     "text": [
      "<class 'pandas.core.frame.DataFrame'>\n",
      "RangeIndex: 4008 entries, 0 to 4007\n",
      "Data columns (total 11 columns):\n",
      " #   Column                   Non-Null Count  Dtype  \n",
      "---  ------                   --------------  -----  \n",
      " 0   customer                 4008 non-null   object \n",
      " 1   customer_state           4008 non-null   object \n",
      " 2   gender                   4008 non-null   object \n",
      " 3   education                4008 non-null   object \n",
      " 4   customer_lifetime_value  4008 non-null   float64\n",
      " 5   income                   4008 non-null   float64\n",
      " 6   monthly_auto_premium     1071 non-null   float64\n",
      " 7   open_complaints          4008 non-null   Int64  \n",
      " 8   policy_type              4008 non-null   object \n",
      " 9   vehicle_class            4008 non-null   object \n",
      " 10  total_claim_amount       1071 non-null   float64\n",
      "dtypes: Int64(1), float64(4), object(6)\n",
      "memory usage: 348.5+ KB\n"
     ]
    }
   ],
   "source": [
    "#After formatting data types, as a last step, convert all the numeric variables to integers.\n",
    "df.info()"
   ]
  },
  {
   "cell_type": "code",
   "execution_count": 133,
   "id": "3a7217d1-2393-4234-9706-b9b9c4c97bbe",
   "metadata": {},
   "outputs": [],
   "source": [
    "#Is already all the values in their data type "
   ]
  },
  {
   "cell_type": "markdown",
   "id": "98416351-e999-4156-9834-9b00a311adfa",
   "metadata": {
    "id": "98416351-e999-4156-9834-9b00a311adfa"
   },
   "source": [
    "## Exercise 5: Dealing with duplicates"
   ]
  },
  {
   "cell_type": "markdown",
   "id": "ea0816a7-a18e-4d4c-b667-a8452a800bd1",
   "metadata": {
    "id": "ea0816a7-a18e-4d4c-b667-a8452a800bd1"
   },
   "source": [
    "Use the `.duplicated()` method to identify any duplicate rows in the dataframe.\n",
    "\n",
    "Decide on a strategy for handling the duplicates. Options include:\n",
    "- Dropping all duplicate rows\n",
    "- Keeping only the first occurrence of each duplicated row\n",
    "- Keeping only the last occurrence of each duplicated row\n",
    "- Dropping duplicates based on a subset of columns\n",
    "- Dropping duplicates based on a specific column\n",
    "\n",
    "Implement your chosen strategy using the `drop_duplicates()` function.\n",
    "\n",
    "Verify that your strategy has successfully handled the duplicates by checking for duplicates again using `.duplicated()`.\n",
    "\n",
    "Remember to document your process and explain your reasoning for choosing a particular strategy for handling duplicates.\n",
    "\n",
    "Save the cleaned dataset to a new CSV file.\n",
    "\n",
    "*Hint*: *after dropping duplicates, reset the index to ensure consistency*."
   ]
  },
  {
   "cell_type": "code",
   "execution_count": 134,
   "id": "1929362c-47ed-47cb-baca-358b78d401a0",
   "metadata": {
    "id": "1929362c-47ed-47cb-baca-358b78d401a0"
   },
   "outputs": [
    {
     "data": {
      "text/plain": [
       "0       False\n",
       "1       False\n",
       "2       False\n",
       "3       False\n",
       "4       False\n",
       "        ...  \n",
       "4003     True\n",
       "4004     True\n",
       "4005     True\n",
       "4006     True\n",
       "4007     True\n",
       "Length: 4008, dtype: bool"
      ]
     },
     "execution_count": 134,
     "metadata": {},
     "output_type": "execute_result"
    }
   ],
   "source": [
    "# Your code here\n",
    "df.duplicated() #returns False: each row is not a duplicate of any row above and True: each row is a duplicate of any row above"
   ]
  },
  {
   "cell_type": "code",
   "execution_count": 135,
   "id": "f821dd71-652f-4991-9bda-35926bfad086",
   "metadata": {},
   "outputs": [],
   "source": [
    "df = df.drop_duplicates(keep='first')"
   ]
  },
  {
   "cell_type": "code",
   "execution_count": 136,
   "id": "900daee4-2f99-4605-a2d1-70cf37f9fde0",
   "metadata": {},
   "outputs": [],
   "source": [
    "duplicados_después = df.duplicated().any()"
   ]
  },
  {
   "cell_type": "code",
   "execution_count": 137,
   "id": "604d5961-9143-48f5-bcbd-b8e270818db7",
   "metadata": {},
   "outputs": [
    {
     "data": {
      "text/html": [
       "<div>\n",
       "<style scoped>\n",
       "    .dataframe tbody tr th:only-of-type {\n",
       "        vertical-align: middle;\n",
       "    }\n",
       "\n",
       "    .dataframe tbody tr th {\n",
       "        vertical-align: top;\n",
       "    }\n",
       "\n",
       "    .dataframe thead th {\n",
       "        text-align: right;\n",
       "    }\n",
       "</style>\n",
       "<table border=\"1\" class=\"dataframe\">\n",
       "  <thead>\n",
       "    <tr style=\"text-align: right;\">\n",
       "      <th></th>\n",
       "      <th>customer</th>\n",
       "      <th>customer_state</th>\n",
       "      <th>gender</th>\n",
       "      <th>education</th>\n",
       "      <th>customer_lifetime_value</th>\n",
       "      <th>income</th>\n",
       "      <th>monthly_auto_premium</th>\n",
       "      <th>open_complaints</th>\n",
       "      <th>policy_type</th>\n",
       "      <th>vehicle_class</th>\n",
       "      <th>total_claim_amount</th>\n",
       "    </tr>\n",
       "  </thead>\n",
       "  <tbody>\n",
       "    <tr>\n",
       "      <th>0</th>\n",
       "      <td>RB50392</td>\n",
       "      <td>Washington</td>\n",
       "      <td>F</td>\n",
       "      <td>Master</td>\n",
       "      <td>588174.235</td>\n",
       "      <td>0.0</td>\n",
       "      <td>1000.0</td>\n",
       "      <td>0</td>\n",
       "      <td>Personal Auto</td>\n",
       "      <td>Four-Door Car</td>\n",
       "      <td>2.704934</td>\n",
       "    </tr>\n",
       "    <tr>\n",
       "      <th>1</th>\n",
       "      <td>QZ44356</td>\n",
       "      <td>Arizona</td>\n",
       "      <td>F</td>\n",
       "      <td>Bachelor</td>\n",
       "      <td>697953.590</td>\n",
       "      <td>0.0</td>\n",
       "      <td>94.0</td>\n",
       "      <td>0</td>\n",
       "      <td>Personal Auto</td>\n",
       "      <td>Four-Door Car</td>\n",
       "      <td>1131.464935</td>\n",
       "    </tr>\n",
       "    <tr>\n",
       "      <th>2</th>\n",
       "      <td>AI49188</td>\n",
       "      <td>Nevada</td>\n",
       "      <td>F</td>\n",
       "      <td>Bachelor</td>\n",
       "      <td>1288743.170</td>\n",
       "      <td>48767.0</td>\n",
       "      <td>108.0</td>\n",
       "      <td>0</td>\n",
       "      <td>Personal Auto</td>\n",
       "      <td>Two-Door Car</td>\n",
       "      <td>566.472247</td>\n",
       "    </tr>\n",
       "    <tr>\n",
       "      <th>3</th>\n",
       "      <td>WW63253</td>\n",
       "      <td>California</td>\n",
       "      <td>M</td>\n",
       "      <td>Bachelor</td>\n",
       "      <td>764586.180</td>\n",
       "      <td>0.0</td>\n",
       "      <td>106.0</td>\n",
       "      <td>0</td>\n",
       "      <td>Corporate Auto</td>\n",
       "      <td>SUV</td>\n",
       "      <td>529.881344</td>\n",
       "    </tr>\n",
       "    <tr>\n",
       "      <th>4</th>\n",
       "      <td>GA49547</td>\n",
       "      <td>Washington</td>\n",
       "      <td>M</td>\n",
       "      <td>High School or Below</td>\n",
       "      <td>536307.650</td>\n",
       "      <td>36357.0</td>\n",
       "      <td>68.0</td>\n",
       "      <td>0</td>\n",
       "      <td>Personal Auto</td>\n",
       "      <td>Four-Door Car</td>\n",
       "      <td>17.269323</td>\n",
       "    </tr>\n",
       "  </tbody>\n",
       "</table>\n",
       "</div>"
      ],
      "text/plain": [
       "  customer customer_state gender             education  \\\n",
       "0  RB50392     Washington      F                Master   \n",
       "1  QZ44356        Arizona      F              Bachelor   \n",
       "2  AI49188         Nevada      F              Bachelor   \n",
       "3  WW63253     California      M              Bachelor   \n",
       "4  GA49547     Washington      M  High School or Below   \n",
       "\n",
       "   customer_lifetime_value   income  monthly_auto_premium  open_complaints  \\\n",
       "0               588174.235      0.0                1000.0                0   \n",
       "1               697953.590      0.0                  94.0                0   \n",
       "2              1288743.170  48767.0                 108.0                0   \n",
       "3               764586.180      0.0                 106.0                0   \n",
       "4               536307.650  36357.0                  68.0                0   \n",
       "\n",
       "      policy_type  vehicle_class  total_claim_amount  \n",
       "0   Personal Auto  Four-Door Car            2.704934  \n",
       "1   Personal Auto  Four-Door Car         1131.464935  \n",
       "2   Personal Auto   Two-Door Car          566.472247  \n",
       "3  Corporate Auto            SUV          529.881344  \n",
       "4   Personal Auto  Four-Door Car           17.269323  "
      ]
     },
     "execution_count": 137,
     "metadata": {},
     "output_type": "execute_result"
    }
   ],
   "source": [
    "df.head()"
   ]
  },
  {
   "cell_type": "code",
   "execution_count": 138,
   "id": "574b3266-708c-4e77-8e98-ad918770856a",
   "metadata": {},
   "outputs": [
    {
     "data": {
      "text/plain": [
       "False"
      ]
     },
     "execution_count": 138,
     "metadata": {},
     "output_type": "execute_result"
    }
   ],
   "source": [
    "df.duplicated().any()"
   ]
  },
  {
   "cell_type": "code",
   "execution_count": 141,
   "id": "9dc9b86d-f458-4d7c-b03c-0feca50803fc",
   "metadata": {},
   "outputs": [],
   "source": [
    "# Exportar el DataFrame limpio a un archivo CSV\n",
    "df.to_csv('lab_cleaning.csv', index=False)"
   ]
  },
  {
   "cell_type": "markdown",
   "id": "60840701-4783-40e2-b4d8-55303f9100c9",
   "metadata": {
    "id": "60840701-4783-40e2-b4d8-55303f9100c9"
   },
   "source": [
    "# Bonus: Challenge 2: creating functions on a separate `py` file"
   ]
  },
  {
   "cell_type": "markdown",
   "id": "9d1adb3a-17cf-4899-8041-da21a4337fb4",
   "metadata": {
    "id": "9d1adb3a-17cf-4899-8041-da21a4337fb4"
   },
   "source": [
    "Put all the data cleaning and formatting steps into functions, and create a main function that performs all the cleaning and formatting.\n",
    "\n",
    "Write these functions in separate .py file(s). By putting these steps into functions, we can make the code more modular and easier to maintain."
   ]
  },
  {
   "cell_type": "markdown",
   "id": "0e170dc2-b62c-417a-8248-e63ed18a70c4",
   "metadata": {
    "id": "0e170dc2-b62c-417a-8248-e63ed18a70c4"
   },
   "source": [
    "*Hint: autoreload module is a utility module in Python that allows you to automatically reload modules in the current session when changes are made to the source code. This can be useful in situations where you are actively developing code and want to see the effects of changes you make without having to constantly restart the Python interpreter or Jupyter Notebook kernel.*"
   ]
  },
  {
   "cell_type": "code",
   "execution_count": null,
   "id": "a52c6dfc-cd11-4d01-bda4-f719fa33e9a4",
   "metadata": {
    "id": "a52c6dfc-cd11-4d01-bda4-f719fa33e9a4"
   },
   "outputs": [],
   "source": [
    "# Your code here"
   ]
  },
  {
   "cell_type": "markdown",
   "id": "80f846bb-3f5e-4ca2-96c0-900728daca5a",
   "metadata": {
    "id": "80f846bb-3f5e-4ca2-96c0-900728daca5a",
    "tags": []
   },
   "source": [
    "# Bonus: Challenge 3: Analyzing Clean and Formated Data"
   ]
  },
  {
   "cell_type": "markdown",
   "id": "9021630e-cc90-446c-b5bd-264d6c864207",
   "metadata": {
    "id": "9021630e-cc90-446c-b5bd-264d6c864207"
   },
   "source": [
    "You have been tasked with analyzing the data to identify potential areas for improving customer retention and profitability. Your goal is to identify customers with a high policy claim amount and a low customer lifetime value.\n",
    "\n",
    "In the Pandas Lab, we only looked at high policy claim amounts because we couldn't look into low customer lifetime values. If we had tried to work with that column, we wouldn't have been able to because customer lifetime value wasn't clean and in its proper format. So after cleaning and formatting the data, let's get some more interesting insights!\n",
    "\n",
    "Instructions:\n",
    "\n",
    "- Review the statistics again for total claim amount and customer lifetime value to gain an understanding of the data.\n",
    "- To identify potential areas for improving customer retention and profitability, we want to focus on customers with a high policy claim amount and a low customer lifetime value. Consider customers with a high policy claim amount to be those in the top 25% of the total claim amount, and clients with a low customer lifetime value to be those in the bottom 25% of the customer lifetime value. Create a pandas DataFrame object that contains information about customers with a policy claim amount greater than the 75th percentile and a customer lifetime value in the bottom 25th percentile.\n",
    "- Use DataFrame methods to calculate summary statistics about the high policy claim amount and low customer lifetime value data. To do so, select both columns of the dataframe simultaneously and pass it to the `.describe()` method. This will give you descriptive statistics, such as mean, median, standard deviation, minimum and maximum values for both columns at the same time, allowing you to compare and analyze their characteristics."
   ]
  },
  {
   "cell_type": "code",
   "execution_count": null,
   "id": "211e82b5-461a-4d6f-8a23-4deccb84173c",
   "metadata": {
    "id": "211e82b5-461a-4d6f-8a23-4deccb84173c"
   },
   "outputs": [],
   "source": [
    "# Your code here"
   ]
  }
 ],
 "metadata": {
  "colab": {
   "provenance": []
  },
  "kernelspec": {
   "display_name": "Python 3 (ipykernel)",
   "language": "python",
   "name": "python3"
  },
  "language_info": {
   "codemirror_mode": {
    "name": "ipython",
    "version": 3
   },
   "file_extension": ".py",
   "mimetype": "text/x-python",
   "name": "python",
   "nbconvert_exporter": "python",
   "pygments_lexer": "ipython3",
   "version": "3.11.7"
  }
 },
 "nbformat": 4,
 "nbformat_minor": 5
}
